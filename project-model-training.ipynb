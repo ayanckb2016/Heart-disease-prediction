{
 "cells": [
  {
   "cell_type": "code",
   "execution_count": 1,
   "id": "81517a63",
   "metadata": {
    "_cell_guid": "b1076dfc-b9ad-4769-8c92-a6c4dae69d19",
    "_uuid": "8f2839f25d086af736a60e9eeb907d3b93b6e0e5",
    "execution": {
     "iopub.execute_input": "2022-11-27T17:18:29.398072Z",
     "iopub.status.busy": "2022-11-27T17:18:29.397425Z",
     "iopub.status.idle": "2022-11-27T17:18:29.418583Z",
     "shell.execute_reply": "2022-11-27T17:18:29.417148Z"
    },
    "papermill": {
     "duration": 0.030978,
     "end_time": "2022-11-27T17:18:29.421462",
     "exception": false,
     "start_time": "2022-11-27T17:18:29.390484",
     "status": "completed"
    },
    "tags": []
   },
   "outputs": [
    {
     "name": "stdout",
     "output_type": "stream",
     "text": [
      "/kaggle/input/personal-key-indicators-of-heart-disease/heart_2020_cleaned.csv\n"
     ]
    }
   ],
   "source": [
    "import numpy as np # linear algebra\n",
    "import pandas as pd # data processing, CSV file I/O (e.g. pd.read_csv)\n",
    "\n",
    "import os\n",
    "for dirname, _, filenames in os.walk('/kaggle/input'):\n",
    "    for filename in filenames:\n",
    "        print(os.path.join(dirname, filename))"
   ]
  },
  {
   "cell_type": "code",
   "execution_count": 2,
   "id": "da7291ba",
   "metadata": {
    "execution": {
     "iopub.execute_input": "2022-11-27T17:18:29.431876Z",
     "iopub.status.busy": "2022-11-27T17:18:29.431080Z",
     "iopub.status.idle": "2022-11-27T17:18:30.469222Z",
     "shell.execute_reply": "2022-11-27T17:18:30.468362Z"
    },
    "papermill": {
     "duration": 1.046225,
     "end_time": "2022-11-27T17:18:30.471976",
     "exception": false,
     "start_time": "2022-11-27T17:18:29.425751",
     "status": "completed"
    },
    "tags": []
   },
   "outputs": [
    {
     "data": {
      "text/html": [
       "<div>\n",
       "<style scoped>\n",
       "    .dataframe tbody tr th:only-of-type {\n",
       "        vertical-align: middle;\n",
       "    }\n",
       "\n",
       "    .dataframe tbody tr th {\n",
       "        vertical-align: top;\n",
       "    }\n",
       "\n",
       "    .dataframe thead th {\n",
       "        text-align: right;\n",
       "    }\n",
       "</style>\n",
       "<table border=\"1\" class=\"dataframe\">\n",
       "  <thead>\n",
       "    <tr style=\"text-align: right;\">\n",
       "      <th></th>\n",
       "      <th>HeartDisease</th>\n",
       "      <th>BMI</th>\n",
       "      <th>Smoking</th>\n",
       "      <th>AlcoholDrinking</th>\n",
       "      <th>Stroke</th>\n",
       "      <th>PhysicalHealth</th>\n",
       "      <th>MentalHealth</th>\n",
       "      <th>DiffWalking</th>\n",
       "      <th>Sex</th>\n",
       "      <th>AgeCategory</th>\n",
       "      <th>Race</th>\n",
       "      <th>Diabetic</th>\n",
       "      <th>PhysicalActivity</th>\n",
       "      <th>GenHealth</th>\n",
       "      <th>SleepTime</th>\n",
       "      <th>Asthma</th>\n",
       "      <th>KidneyDisease</th>\n",
       "      <th>SkinCancer</th>\n",
       "    </tr>\n",
       "  </thead>\n",
       "  <tbody>\n",
       "    <tr>\n",
       "      <th>0</th>\n",
       "      <td>No</td>\n",
       "      <td>16.60</td>\n",
       "      <td>Yes</td>\n",
       "      <td>No</td>\n",
       "      <td>No</td>\n",
       "      <td>3.0</td>\n",
       "      <td>30.0</td>\n",
       "      <td>No</td>\n",
       "      <td>Female</td>\n",
       "      <td>55-59</td>\n",
       "      <td>White</td>\n",
       "      <td>Yes</td>\n",
       "      <td>Yes</td>\n",
       "      <td>Very good</td>\n",
       "      <td>5.0</td>\n",
       "      <td>Yes</td>\n",
       "      <td>No</td>\n",
       "      <td>Yes</td>\n",
       "    </tr>\n",
       "    <tr>\n",
       "      <th>1</th>\n",
       "      <td>No</td>\n",
       "      <td>20.34</td>\n",
       "      <td>No</td>\n",
       "      <td>No</td>\n",
       "      <td>Yes</td>\n",
       "      <td>0.0</td>\n",
       "      <td>0.0</td>\n",
       "      <td>No</td>\n",
       "      <td>Female</td>\n",
       "      <td>80 or older</td>\n",
       "      <td>White</td>\n",
       "      <td>No</td>\n",
       "      <td>Yes</td>\n",
       "      <td>Very good</td>\n",
       "      <td>7.0</td>\n",
       "      <td>No</td>\n",
       "      <td>No</td>\n",
       "      <td>No</td>\n",
       "    </tr>\n",
       "    <tr>\n",
       "      <th>2</th>\n",
       "      <td>No</td>\n",
       "      <td>26.58</td>\n",
       "      <td>Yes</td>\n",
       "      <td>No</td>\n",
       "      <td>No</td>\n",
       "      <td>20.0</td>\n",
       "      <td>30.0</td>\n",
       "      <td>No</td>\n",
       "      <td>Male</td>\n",
       "      <td>65-69</td>\n",
       "      <td>White</td>\n",
       "      <td>Yes</td>\n",
       "      <td>Yes</td>\n",
       "      <td>Fair</td>\n",
       "      <td>8.0</td>\n",
       "      <td>Yes</td>\n",
       "      <td>No</td>\n",
       "      <td>No</td>\n",
       "    </tr>\n",
       "    <tr>\n",
       "      <th>3</th>\n",
       "      <td>No</td>\n",
       "      <td>24.21</td>\n",
       "      <td>No</td>\n",
       "      <td>No</td>\n",
       "      <td>No</td>\n",
       "      <td>0.0</td>\n",
       "      <td>0.0</td>\n",
       "      <td>No</td>\n",
       "      <td>Female</td>\n",
       "      <td>75-79</td>\n",
       "      <td>White</td>\n",
       "      <td>No</td>\n",
       "      <td>No</td>\n",
       "      <td>Good</td>\n",
       "      <td>6.0</td>\n",
       "      <td>No</td>\n",
       "      <td>No</td>\n",
       "      <td>Yes</td>\n",
       "    </tr>\n",
       "    <tr>\n",
       "      <th>4</th>\n",
       "      <td>No</td>\n",
       "      <td>23.71</td>\n",
       "      <td>No</td>\n",
       "      <td>No</td>\n",
       "      <td>No</td>\n",
       "      <td>28.0</td>\n",
       "      <td>0.0</td>\n",
       "      <td>Yes</td>\n",
       "      <td>Female</td>\n",
       "      <td>40-44</td>\n",
       "      <td>White</td>\n",
       "      <td>No</td>\n",
       "      <td>Yes</td>\n",
       "      <td>Very good</td>\n",
       "      <td>8.0</td>\n",
       "      <td>No</td>\n",
       "      <td>No</td>\n",
       "      <td>No</td>\n",
       "    </tr>\n",
       "  </tbody>\n",
       "</table>\n",
       "</div>"
      ],
      "text/plain": [
       "  HeartDisease    BMI Smoking AlcoholDrinking Stroke  PhysicalHealth  \\\n",
       "0           No  16.60     Yes              No     No             3.0   \n",
       "1           No  20.34      No              No    Yes             0.0   \n",
       "2           No  26.58     Yes              No     No            20.0   \n",
       "3           No  24.21      No              No     No             0.0   \n",
       "4           No  23.71      No              No     No            28.0   \n",
       "\n",
       "   MentalHealth DiffWalking     Sex  AgeCategory   Race Diabetic  \\\n",
       "0          30.0          No  Female        55-59  White      Yes   \n",
       "1           0.0          No  Female  80 or older  White       No   \n",
       "2          30.0          No    Male        65-69  White      Yes   \n",
       "3           0.0          No  Female        75-79  White       No   \n",
       "4           0.0         Yes  Female        40-44  White       No   \n",
       "\n",
       "  PhysicalActivity  GenHealth  SleepTime Asthma KidneyDisease SkinCancer  \n",
       "0              Yes  Very good        5.0    Yes            No        Yes  \n",
       "1              Yes  Very good        7.0     No            No         No  \n",
       "2              Yes       Fair        8.0    Yes            No         No  \n",
       "3               No       Good        6.0     No            No        Yes  \n",
       "4              Yes  Very good        8.0     No            No         No  "
      ]
     },
     "execution_count": 2,
     "metadata": {},
     "output_type": "execute_result"
    }
   ],
   "source": [
    "df = pd.read_csv('/kaggle/input/personal-key-indicators-of-heart-disease/heart_2020_cleaned.csv')\n",
    "df.head()"
   ]
  },
  {
   "cell_type": "markdown",
   "id": "f7c372fc",
   "metadata": {
    "papermill": {
     "duration": 0.004303,
     "end_time": "2022-11-27T17:18:30.482922",
     "exception": false,
     "start_time": "2022-11-27T17:18:30.478619",
     "status": "completed"
    },
    "tags": []
   },
   "source": [
    "### Introduction of the project\n",
    "In this project we want to predict whether a person has a heart disease or not based on the data about his/ her health. The data includes some key metrics like BMI, Smoking, Alcohol Drinking, Meantal Health Diabetic and much more. We plan to do a comparative study between three machine learning models random forest, xgboost and Support Vector Machine. Currently we have trained three Random Forest Models at different max_depths: 4, 8, 12. Here we will be presenting to you our observation about this models and drawbacks about the models. \n",
    "Total Size of the Dataset is 3,19,795"
   ]
  },
  {
   "cell_type": "code",
   "execution_count": 3,
   "id": "d6b36f73",
   "metadata": {
    "execution": {
     "iopub.execute_input": "2022-11-27T17:18:30.494332Z",
     "iopub.status.busy": "2022-11-27T17:18:30.493309Z",
     "iopub.status.idle": "2022-11-27T17:18:30.498986Z",
     "shell.execute_reply": "2022-11-27T17:18:30.497990Z"
    },
    "papermill": {
     "duration": 0.015721,
     "end_time": "2022-11-27T17:18:30.503501",
     "exception": false,
     "start_time": "2022-11-27T17:18:30.487780",
     "status": "completed"
    },
    "tags": []
   },
   "outputs": [
    {
     "name": "stdout",
     "output_type": "stream",
     "text": [
      "319795\n"
     ]
    }
   ],
   "source": [
    "print(len(df))"
   ]
  },
  {
   "cell_type": "code",
   "execution_count": 4,
   "id": "d21cad1b",
   "metadata": {
    "execution": {
     "iopub.execute_input": "2022-11-27T17:18:30.514753Z",
     "iopub.status.busy": "2022-11-27T17:18:30.513700Z",
     "iopub.status.idle": "2022-11-27T17:18:30.712703Z",
     "shell.execute_reply": "2022-11-27T17:18:30.711333Z"
    },
    "papermill": {
     "duration": 0.207812,
     "end_time": "2022-11-27T17:18:30.715757",
     "exception": false,
     "start_time": "2022-11-27T17:18:30.507945",
     "status": "completed"
    },
    "tags": []
   },
   "outputs": [
    {
     "name": "stdout",
     "output_type": "stream",
     "text": [
      "HeartDisease        0\n",
      "BMI                 0\n",
      "Smoking             0\n",
      "AlcoholDrinking     0\n",
      "Stroke              0\n",
      "PhysicalHealth      0\n",
      "MentalHealth        0\n",
      "DiffWalking         0\n",
      "Sex                 0\n",
      "AgeCategory         0\n",
      "Race                0\n",
      "Diabetic            0\n",
      "PhysicalActivity    0\n",
      "GenHealth           0\n",
      "SleepTime           0\n",
      "Asthma              0\n",
      "KidneyDisease       0\n",
      "SkinCancer          0\n",
      "dtype: int64\n"
     ]
    }
   ],
   "source": [
    "print(df.isnull().sum())"
   ]
  },
  {
   "cell_type": "code",
   "execution_count": 5,
   "id": "f4e7dc14",
   "metadata": {
    "execution": {
     "iopub.execute_input": "2022-11-27T17:18:30.727187Z",
     "iopub.status.busy": "2022-11-27T17:18:30.726786Z",
     "iopub.status.idle": "2022-11-27T17:18:33.211409Z",
     "shell.execute_reply": "2022-11-27T17:18:33.210211Z"
    },
    "papermill": {
     "duration": 2.492976,
     "end_time": "2022-11-27T17:18:33.213814",
     "exception": false,
     "start_time": "2022-11-27T17:18:30.720838",
     "status": "completed"
    },
    "tags": []
   },
   "outputs": [
    {
     "data": {
      "text/html": [
       "<div>\n",
       "<style scoped>\n",
       "    .dataframe tbody tr th:only-of-type {\n",
       "        vertical-align: middle;\n",
       "    }\n",
       "\n",
       "    .dataframe tbody tr th {\n",
       "        vertical-align: top;\n",
       "    }\n",
       "\n",
       "    .dataframe thead th {\n",
       "        text-align: right;\n",
       "    }\n",
       "</style>\n",
       "<table border=\"1\" class=\"dataframe\">\n",
       "  <thead>\n",
       "    <tr style=\"text-align: right;\">\n",
       "      <th></th>\n",
       "      <th>HeartDisease</th>\n",
       "      <th>BMI</th>\n",
       "      <th>Smoking</th>\n",
       "      <th>AlcoholDrinking</th>\n",
       "      <th>Stroke</th>\n",
       "      <th>PhysicalHealth</th>\n",
       "      <th>MentalHealth</th>\n",
       "      <th>DiffWalking</th>\n",
       "      <th>Sex</th>\n",
       "      <th>AgeCategory</th>\n",
       "      <th>Race</th>\n",
       "      <th>Diabetic</th>\n",
       "      <th>PhysicalActivity</th>\n",
       "      <th>GenHealth</th>\n",
       "      <th>SleepTime</th>\n",
       "      <th>Asthma</th>\n",
       "      <th>KidneyDisease</th>\n",
       "      <th>SkinCancer</th>\n",
       "    </tr>\n",
       "  </thead>\n",
       "  <tbody>\n",
       "    <tr>\n",
       "      <th>0</th>\n",
       "      <td>0</td>\n",
       "      <td>16.60</td>\n",
       "      <td>1</td>\n",
       "      <td>0</td>\n",
       "      <td>0</td>\n",
       "      <td>3.0</td>\n",
       "      <td>30.0</td>\n",
       "      <td>0</td>\n",
       "      <td>0</td>\n",
       "      <td>7</td>\n",
       "      <td>5</td>\n",
       "      <td>2</td>\n",
       "      <td>1</td>\n",
       "      <td>4</td>\n",
       "      <td>5.0</td>\n",
       "      <td>1</td>\n",
       "      <td>0</td>\n",
       "      <td>1</td>\n",
       "    </tr>\n",
       "    <tr>\n",
       "      <th>1</th>\n",
       "      <td>0</td>\n",
       "      <td>20.34</td>\n",
       "      <td>0</td>\n",
       "      <td>0</td>\n",
       "      <td>1</td>\n",
       "      <td>0.0</td>\n",
       "      <td>0.0</td>\n",
       "      <td>0</td>\n",
       "      <td>0</td>\n",
       "      <td>12</td>\n",
       "      <td>5</td>\n",
       "      <td>0</td>\n",
       "      <td>1</td>\n",
       "      <td>4</td>\n",
       "      <td>7.0</td>\n",
       "      <td>0</td>\n",
       "      <td>0</td>\n",
       "      <td>0</td>\n",
       "    </tr>\n",
       "    <tr>\n",
       "      <th>2</th>\n",
       "      <td>0</td>\n",
       "      <td>26.58</td>\n",
       "      <td>1</td>\n",
       "      <td>0</td>\n",
       "      <td>0</td>\n",
       "      <td>20.0</td>\n",
       "      <td>30.0</td>\n",
       "      <td>0</td>\n",
       "      <td>1</td>\n",
       "      <td>9</td>\n",
       "      <td>5</td>\n",
       "      <td>2</td>\n",
       "      <td>1</td>\n",
       "      <td>1</td>\n",
       "      <td>8.0</td>\n",
       "      <td>1</td>\n",
       "      <td>0</td>\n",
       "      <td>0</td>\n",
       "    </tr>\n",
       "    <tr>\n",
       "      <th>3</th>\n",
       "      <td>0</td>\n",
       "      <td>24.21</td>\n",
       "      <td>0</td>\n",
       "      <td>0</td>\n",
       "      <td>0</td>\n",
       "      <td>0.0</td>\n",
       "      <td>0.0</td>\n",
       "      <td>0</td>\n",
       "      <td>0</td>\n",
       "      <td>11</td>\n",
       "      <td>5</td>\n",
       "      <td>0</td>\n",
       "      <td>0</td>\n",
       "      <td>2</td>\n",
       "      <td>6.0</td>\n",
       "      <td>0</td>\n",
       "      <td>0</td>\n",
       "      <td>1</td>\n",
       "    </tr>\n",
       "    <tr>\n",
       "      <th>4</th>\n",
       "      <td>0</td>\n",
       "      <td>23.71</td>\n",
       "      <td>0</td>\n",
       "      <td>0</td>\n",
       "      <td>0</td>\n",
       "      <td>28.0</td>\n",
       "      <td>0.0</td>\n",
       "      <td>1</td>\n",
       "      <td>0</td>\n",
       "      <td>4</td>\n",
       "      <td>5</td>\n",
       "      <td>0</td>\n",
       "      <td>1</td>\n",
       "      <td>4</td>\n",
       "      <td>8.0</td>\n",
       "      <td>0</td>\n",
       "      <td>0</td>\n",
       "      <td>0</td>\n",
       "    </tr>\n",
       "  </tbody>\n",
       "</table>\n",
       "</div>"
      ],
      "text/plain": [
       "   HeartDisease    BMI  Smoking  AlcoholDrinking  Stroke  PhysicalHealth  \\\n",
       "0             0  16.60        1                0       0             3.0   \n",
       "1             0  20.34        0                0       1             0.0   \n",
       "2             0  26.58        1                0       0            20.0   \n",
       "3             0  24.21        0                0       0             0.0   \n",
       "4             0  23.71        0                0       0            28.0   \n",
       "\n",
       "   MentalHealth  DiffWalking  Sex  AgeCategory  Race  Diabetic  \\\n",
       "0          30.0            0    0            7     5         2   \n",
       "1           0.0            0    0           12     5         0   \n",
       "2          30.0            0    1            9     5         2   \n",
       "3           0.0            0    0           11     5         0   \n",
       "4           0.0            1    0            4     5         0   \n",
       "\n",
       "   PhysicalActivity  GenHealth  SleepTime  Asthma  KidneyDisease  SkinCancer  \n",
       "0                 1          4        5.0       1              0           1  \n",
       "1                 1          4        7.0       0              0           0  \n",
       "2                 1          1        8.0       1              0           0  \n",
       "3                 0          2        6.0       0              0           1  \n",
       "4                 1          4        8.0       0              0           0  "
      ]
     },
     "execution_count": 5,
     "metadata": {},
     "output_type": "execute_result"
    }
   ],
   "source": [
    "from sklearn import preprocessing\n",
    "\n",
    "Categorical_Columns = ['HeartDisease','Smoking','AlcoholDrinking','Stroke','DiffWalking','Sex','AgeCategory','Race','Diabetic','PhysicalActivity', 'GenHealth', 'Asthma', 'KidneyDisease','SkinCancer']\n",
    "\n",
    "le = preprocessing.LabelEncoder()\n",
    "\n",
    "for col in Categorical_Columns:\n",
    "    df[col] = le.fit_transform(df[col])\n",
    "df.head()"
   ]
  },
  {
   "cell_type": "code",
   "execution_count": 6,
   "id": "99f0d2b3",
   "metadata": {
    "execution": {
     "iopub.execute_input": "2022-11-27T17:18:33.225941Z",
     "iopub.status.busy": "2022-11-27T17:18:33.225299Z",
     "iopub.status.idle": "2022-11-27T17:18:33.232094Z",
     "shell.execute_reply": "2022-11-27T17:18:33.230491Z"
    },
    "papermill": {
     "duration": 0.016445,
     "end_time": "2022-11-27T17:18:33.235433",
     "exception": false,
     "start_time": "2022-11-27T17:18:33.218988",
     "status": "completed"
    },
    "tags": []
   },
   "outputs": [
    {
     "name": "stdout",
     "output_type": "stream",
     "text": [
      "[0 0 0 ... 0 0 0]\n"
     ]
    }
   ],
   "source": [
    "y = df.HeartDisease.values\n",
    "print(y)"
   ]
  },
  {
   "cell_type": "code",
   "execution_count": 7,
   "id": "ee08a26e",
   "metadata": {
    "execution": {
     "iopub.execute_input": "2022-11-27T17:18:33.249546Z",
     "iopub.status.busy": "2022-11-27T17:18:33.249079Z",
     "iopub.status.idle": "2022-11-27T17:18:33.314711Z",
     "shell.execute_reply": "2022-11-27T17:18:33.313642Z"
    },
    "papermill": {
     "duration": 0.076381,
     "end_time": "2022-11-27T17:18:33.317984",
     "exception": false,
     "start_time": "2022-11-27T17:18:33.241603",
     "status": "completed"
    },
    "tags": []
   },
   "outputs": [
    {
     "data": {
      "text/html": [
       "<div>\n",
       "<style scoped>\n",
       "    .dataframe tbody tr th:only-of-type {\n",
       "        vertical-align: middle;\n",
       "    }\n",
       "\n",
       "    .dataframe tbody tr th {\n",
       "        vertical-align: top;\n",
       "    }\n",
       "\n",
       "    .dataframe thead th {\n",
       "        text-align: right;\n",
       "    }\n",
       "</style>\n",
       "<table border=\"1\" class=\"dataframe\">\n",
       "  <thead>\n",
       "    <tr style=\"text-align: right;\">\n",
       "      <th></th>\n",
       "      <th>BMI</th>\n",
       "      <th>Smoking</th>\n",
       "      <th>AlcoholDrinking</th>\n",
       "      <th>Stroke</th>\n",
       "      <th>PhysicalHealth</th>\n",
       "      <th>MentalHealth</th>\n",
       "      <th>DiffWalking</th>\n",
       "      <th>Sex</th>\n",
       "      <th>AgeCategory</th>\n",
       "      <th>Race</th>\n",
       "      <th>Diabetic</th>\n",
       "      <th>PhysicalActivity</th>\n",
       "      <th>GenHealth</th>\n",
       "      <th>SleepTime</th>\n",
       "      <th>Asthma</th>\n",
       "      <th>KidneyDisease</th>\n",
       "      <th>SkinCancer</th>\n",
       "    </tr>\n",
       "  </thead>\n",
       "  <tbody>\n",
       "    <tr>\n",
       "      <th>0</th>\n",
       "      <td>16.60</td>\n",
       "      <td>1</td>\n",
       "      <td>0</td>\n",
       "      <td>0</td>\n",
       "      <td>3.0</td>\n",
       "      <td>30.0</td>\n",
       "      <td>0</td>\n",
       "      <td>0</td>\n",
       "      <td>7</td>\n",
       "      <td>5</td>\n",
       "      <td>2</td>\n",
       "      <td>1</td>\n",
       "      <td>4</td>\n",
       "      <td>5.0</td>\n",
       "      <td>1</td>\n",
       "      <td>0</td>\n",
       "      <td>1</td>\n",
       "    </tr>\n",
       "    <tr>\n",
       "      <th>1</th>\n",
       "      <td>20.34</td>\n",
       "      <td>0</td>\n",
       "      <td>0</td>\n",
       "      <td>1</td>\n",
       "      <td>0.0</td>\n",
       "      <td>0.0</td>\n",
       "      <td>0</td>\n",
       "      <td>0</td>\n",
       "      <td>12</td>\n",
       "      <td>5</td>\n",
       "      <td>0</td>\n",
       "      <td>1</td>\n",
       "      <td>4</td>\n",
       "      <td>7.0</td>\n",
       "      <td>0</td>\n",
       "      <td>0</td>\n",
       "      <td>0</td>\n",
       "    </tr>\n",
       "    <tr>\n",
       "      <th>2</th>\n",
       "      <td>26.58</td>\n",
       "      <td>1</td>\n",
       "      <td>0</td>\n",
       "      <td>0</td>\n",
       "      <td>20.0</td>\n",
       "      <td>30.0</td>\n",
       "      <td>0</td>\n",
       "      <td>1</td>\n",
       "      <td>9</td>\n",
       "      <td>5</td>\n",
       "      <td>2</td>\n",
       "      <td>1</td>\n",
       "      <td>1</td>\n",
       "      <td>8.0</td>\n",
       "      <td>1</td>\n",
       "      <td>0</td>\n",
       "      <td>0</td>\n",
       "    </tr>\n",
       "    <tr>\n",
       "      <th>3</th>\n",
       "      <td>24.21</td>\n",
       "      <td>0</td>\n",
       "      <td>0</td>\n",
       "      <td>0</td>\n",
       "      <td>0.0</td>\n",
       "      <td>0.0</td>\n",
       "      <td>0</td>\n",
       "      <td>0</td>\n",
       "      <td>11</td>\n",
       "      <td>5</td>\n",
       "      <td>0</td>\n",
       "      <td>0</td>\n",
       "      <td>2</td>\n",
       "      <td>6.0</td>\n",
       "      <td>0</td>\n",
       "      <td>0</td>\n",
       "      <td>1</td>\n",
       "    </tr>\n",
       "    <tr>\n",
       "      <th>4</th>\n",
       "      <td>23.71</td>\n",
       "      <td>0</td>\n",
       "      <td>0</td>\n",
       "      <td>0</td>\n",
       "      <td>28.0</td>\n",
       "      <td>0.0</td>\n",
       "      <td>1</td>\n",
       "      <td>0</td>\n",
       "      <td>4</td>\n",
       "      <td>5</td>\n",
       "      <td>0</td>\n",
       "      <td>1</td>\n",
       "      <td>4</td>\n",
       "      <td>8.0</td>\n",
       "      <td>0</td>\n",
       "      <td>0</td>\n",
       "      <td>0</td>\n",
       "    </tr>\n",
       "  </tbody>\n",
       "</table>\n",
       "</div>"
      ],
      "text/plain": [
       "     BMI  Smoking  AlcoholDrinking  Stroke  PhysicalHealth  MentalHealth  \\\n",
       "0  16.60        1                0       0             3.0          30.0   \n",
       "1  20.34        0                0       1             0.0           0.0   \n",
       "2  26.58        1                0       0            20.0          30.0   \n",
       "3  24.21        0                0       0             0.0           0.0   \n",
       "4  23.71        0                0       0            28.0           0.0   \n",
       "\n",
       "   DiffWalking  Sex  AgeCategory  Race  Diabetic  PhysicalActivity  GenHealth  \\\n",
       "0            0    0            7     5         2                 1          4   \n",
       "1            0    0           12     5         0                 1          4   \n",
       "2            0    1            9     5         2                 1          1   \n",
       "3            0    0           11     5         0                 0          2   \n",
       "4            1    0            4     5         0                 1          4   \n",
       "\n",
       "   SleepTime  Asthma  KidneyDisease  SkinCancer  \n",
       "0        5.0       1              0           1  \n",
       "1        7.0       0              0           0  \n",
       "2        8.0       1              0           0  \n",
       "3        6.0       0              0           1  \n",
       "4        8.0       0              0           0  "
      ]
     },
     "execution_count": 7,
     "metadata": {},
     "output_type": "execute_result"
    }
   ],
   "source": [
    "X = df.drop('HeartDisease', axis = 1)\n",
    "X.head()"
   ]
  },
  {
   "cell_type": "code",
   "execution_count": 8,
   "id": "116660c2",
   "metadata": {
    "execution": {
     "iopub.execute_input": "2022-11-27T17:18:33.331157Z",
     "iopub.status.busy": "2022-11-27T17:18:33.330760Z",
     "iopub.status.idle": "2022-11-27T17:18:33.487886Z",
     "shell.execute_reply": "2022-11-27T17:18:33.486540Z"
    },
    "papermill": {
     "duration": 0.167533,
     "end_time": "2022-11-27T17:18:33.491201",
     "exception": false,
     "start_time": "2022-11-27T17:18:33.323668",
     "status": "completed"
    },
    "tags": []
   },
   "outputs": [],
   "source": [
    "from sklearn.model_selection import StratifiedKFold, train_test_split\n",
    "\n",
    "X_train_valid, X_test, y_train_valid, y_test = train_test_split(X,y)\n"
   ]
  },
  {
   "cell_type": "code",
   "execution_count": 9,
   "id": "04302a3e",
   "metadata": {
    "execution": {
     "iopub.execute_input": "2022-11-27T17:18:33.506545Z",
     "iopub.status.busy": "2022-11-27T17:18:33.506103Z",
     "iopub.status.idle": "2022-11-27T17:23:15.301155Z",
     "shell.execute_reply": "2022-11-27T17:23:15.299631Z"
    },
    "papermill": {
     "duration": 281.805322,
     "end_time": "2022-11-27T17:23:15.303953",
     "exception": false,
     "start_time": "2022-11-27T17:18:33.498631",
     "status": "completed"
    },
    "tags": []
   },
   "outputs": [
    {
     "name": "stdout",
     "output_type": "stream",
     "text": [
      "Performance of the model for a max_depth of 4\n",
      "Running through 0th fold\n",
      "The Validation Accuracy is 0.9132791327913279\n",
      "The Validation AUCROC Score is 0.8290761404146221\n",
      "Running through 1th fold\n",
      "The Validation Accuracy is 0.9158831745502304\n",
      "The Validation AUCROC Score is 0.8225678557564191\n",
      "Running through 2th fold\n",
      "The Validation Accuracy is 0.9141737372052784\n",
      "The Validation AUCROC Score is 0.8228066434827223\n",
      "Running through 3th fold\n",
      "The Validation Accuracy is 0.9145489795492923\n",
      "The Validation AUCROC Score is 0.8216386123409152\n",
      "Running through 4th fold\n",
      "The Validation Accuracy is 0.9144238987679543\n",
      "The Validation AUCROC Score is 0.8210092920757943\n",
      "The Mean Validation Accuracy is 0.9144238987679543\n",
      "The Mean Validation AUCROC score is 0.8210092920757943\n",
      "Performance of the model for a max_depth of 8\n",
      "Running through 0th fold\n",
      "The Validation Accuracy is 0.9145716072545341\n",
      "The Validation AUCROC Score is 0.8421219975512653\n",
      "Running through 1th fold\n",
      "The Validation Accuracy is 0.916571118847589\n",
      "The Validation AUCROC Score is 0.8357501793794386\n",
      "Running through 2th fold\n",
      "The Validation Accuracy is 0.9149450686901958\n",
      "The Validation AUCROC Score is 0.838180820146514\n",
      "Running through 3th fold\n",
      "The Validation Accuracy is 0.9155704725968855\n",
      "The Validation AUCROC Score is 0.8360199908654687\n",
      "Running through 4th fold\n",
      "The Validation Accuracy is 0.9155287790031061\n",
      "The Validation AUCROC Score is 0.8356205609205497\n",
      "The Mean Validation Accuracy is 0.9155287790031061\n",
      "The Mean Validation AUCROC score is 0.8356205609205497\n",
      "Performance of the model for a max_depth of 12\n",
      "Running through 0th fold\n",
      "The Validation Accuracy is 0.9145090681676048\n",
      "The Validation AUCROC Score is 0.8445552375938528\n",
      "Running through 1th fold\n",
      "The Validation Accuracy is 0.9161750297066855\n",
      "The Validation AUCROC Score is 0.8386939132865159\n",
      "Running through 2th fold\n",
      "The Validation Accuracy is 0.9152786174404303\n",
      "The Validation AUCROC Score is 0.8413350675162079\n",
      "Running through 3th fold\n",
      "The Validation Accuracy is 0.9158831745502304\n",
      "The Validation AUCROC Score is 0.8406980931763338\n",
      "Running through 4th fold\n",
      "The Validation Accuracy is 0.9157997873626718\n",
      "The Validation AUCROC Score is 0.8401890235746914\n",
      "The Mean Validation Accuracy is 0.9157997873626718\n",
      "The Mean Validation AUCROC score is 0.8401890235746914\n"
     ]
    }
   ],
   "source": [
    "from sklearn.ensemble import RandomForestClassifier\n",
    "from sklearn.metrics import accuracy_score, confusion_matrix, roc_auc_score\n",
    "\n",
    "\n",
    "skf = StratifiedKFold(n_splits=5)\n",
    "max_depths = [4,8,12]\n",
    "all_models = []\n",
    "for max_depth in max_depths:\n",
    "    all_acc = []\n",
    "    all_roc = []\n",
    "    fold = 0\n",
    "    print(f'Performance of the model for a max_depth of {max_depth}')\n",
    "    for train_index, test_index in skf.split(X_train_valid, y_train_valid):\n",
    "        # print(\"TRAIN:\", train_index, \"TEST:\", test_index)\n",
    "        print(f'Running through {fold}th fold')\n",
    "        X_train, X_test = X.values[train_index], X.values[test_index]\n",
    "        y_train, y_test = y[train_index], y[test_index]\n",
    "        rf = RandomForestClassifier(max_depth=max_depth, random_state=69)\n",
    "        rf.fit(X_train, y_train)\n",
    "        y_preds = rf.predict(X_test)\n",
    "        y_pred_proba = rf.predict_proba(X_test)\n",
    "        valid_acc = accuracy_score(y_test, y_preds)\n",
    "        valid_roc = roc_auc_score(y_test, y_pred_proba[:, 1])\n",
    "        all_roc.append(valid_roc)\n",
    "        all_acc.append(valid_acc)\n",
    "        print(f'The Validation Accuracy is {valid_acc}')\n",
    "        print(f'The Validation AUCROC Score is {valid_roc}')\n",
    "        fold += 1\n",
    "    print(f'The Mean Validation Accuracy is {np.mean(valid_acc)}')\n",
    "    print(f'The Mean Validation AUCROC score is {np.mean(valid_roc)}')\n",
    "\n",
    "\n",
    "    \n",
    "    "
   ]
  },
  {
   "cell_type": "code",
   "execution_count": 10,
   "id": "cc1765be",
   "metadata": {
    "execution": {
     "iopub.execute_input": "2022-11-27T17:23:15.319090Z",
     "iopub.status.busy": "2022-11-27T17:23:15.318339Z",
     "iopub.status.idle": "2022-11-27T17:23:15.324200Z",
     "shell.execute_reply": "2022-11-27T17:23:15.323054Z"
    },
    "papermill": {
     "duration": 0.016442,
     "end_time": "2022-11-27T17:23:15.327063",
     "exception": false,
     "start_time": "2022-11-27T17:23:15.310621",
     "status": "completed"
    },
    "tags": []
   },
   "outputs": [
    {
     "name": "stdout",
     "output_type": "stream",
     "text": [
      "The Mean Validation Accuracy is 0.9155291354455244\n"
     ]
    }
   ],
   "source": [
    "mean_val_acc = np.mean(all_acc)\n",
    "\n",
    "print(f'The Mean Validation Accuracy is {mean_val_acc}')"
   ]
  },
  {
   "cell_type": "code",
   "execution_count": 11,
   "id": "9738034b",
   "metadata": {
    "execution": {
     "iopub.execute_input": "2022-11-27T17:23:15.341725Z",
     "iopub.status.busy": "2022-11-27T17:23:15.341339Z",
     "iopub.status.idle": "2022-11-27T17:23:16.073789Z",
     "shell.execute_reply": "2022-11-27T17:23:16.072252Z"
    },
    "papermill": {
     "duration": 0.743345,
     "end_time": "2022-11-27T17:23:16.077006",
     "exception": false,
     "start_time": "2022-11-27T17:23:15.333661",
     "status": "completed"
    },
    "tags": []
   },
   "outputs": [
    {
     "name": "stdout",
     "output_type": "stream",
     "text": [
      "The Accuracy of the test set is 0.9157997873626718\n"
     ]
    }
   ],
   "source": [
    "y_pred_test = rf.predict(X_test)\n",
    "test_acc = accuracy_score(y_test, y_pred_test)\n",
    "\n",
    "print(f'The Accuracy of the test set is {test_acc}')"
   ]
  },
  {
   "cell_type": "code",
   "execution_count": 12,
   "id": "aa029201",
   "metadata": {
    "execution": {
     "iopub.execute_input": "2022-11-27T17:23:16.092953Z",
     "iopub.status.busy": "2022-11-27T17:23:16.092557Z",
     "iopub.status.idle": "2022-11-27T17:23:16.831575Z",
     "shell.execute_reply": "2022-11-27T17:23:16.830001Z"
    },
    "papermill": {
     "duration": 0.749784,
     "end_time": "2022-11-27T17:23:16.834192",
     "exception": false,
     "start_time": "2022-11-27T17:23:16.084408",
     "status": "completed"
    },
    "tags": []
   },
   "outputs": [
    {
     "name": "stdout",
     "output_type": "stream",
     "text": [
      "[[43711   151]\n",
      " [ 3888   219]]\n"
     ]
    }
   ],
   "source": [
    "from sklearn.metrics import confusion_matrix, roc_auc_score\n",
    "\n",
    "y_predict_probab = rf.predict_proba(X_test)\n",
    "print(confusion_matrix(y_test, y_pred_test))"
   ]
  },
  {
   "cell_type": "code",
   "execution_count": 13,
   "id": "b53e1ee1",
   "metadata": {
    "execution": {
     "iopub.execute_input": "2022-11-27T17:23:16.849628Z",
     "iopub.status.busy": "2022-11-27T17:23:16.849202Z",
     "iopub.status.idle": "2022-11-27T17:23:16.871778Z",
     "shell.execute_reply": "2022-11-27T17:23:16.870228Z"
    },
    "papermill": {
     "duration": 0.03321,
     "end_time": "2022-11-27T17:23:16.874354",
     "exception": false,
     "start_time": "2022-11-27T17:23:16.841144",
     "status": "completed"
    },
    "tags": []
   },
   "outputs": [
    {
     "name": "stdout",
     "output_type": "stream",
     "text": [
      "The roc_auc score of the model on the test data is 0.8401890235746914\n"
     ]
    }
   ],
   "source": [
    "print(f'The roc_auc score of the model on the test data is {roc_auc_score(y_test, y_predict_probab[:, 1])}')"
   ]
  },
  {
   "cell_type": "code",
   "execution_count": 14,
   "id": "e0e472c6",
   "metadata": {
    "execution": {
     "iopub.execute_input": "2022-11-27T17:23:16.889628Z",
     "iopub.status.busy": "2022-11-27T17:23:16.889194Z",
     "iopub.status.idle": "2022-11-27T17:23:16.894993Z",
     "shell.execute_reply": "2022-11-27T17:23:16.893764Z"
    },
    "papermill": {
     "duration": 0.01695,
     "end_time": "2022-11-27T17:23:16.898144",
     "exception": false,
     "start_time": "2022-11-27T17:23:16.881194",
     "status": "completed"
    },
    "tags": []
   },
   "outputs": [
    {
     "name": "stdout",
     "output_type": "stream",
     "text": [
      "Index(['HeartDisease', 'BMI', 'Smoking', 'AlcoholDrinking', 'Stroke',\n",
      "       'PhysicalHealth', 'MentalHealth', 'DiffWalking', 'Sex', 'AgeCategory',\n",
      "       'Race', 'Diabetic', 'PhysicalActivity', 'GenHealth', 'SleepTime',\n",
      "       'Asthma', 'KidneyDisease', 'SkinCancer'],\n",
      "      dtype='object')\n"
     ]
    }
   ],
   "source": [
    "cols = df.columns\n",
    "print(cols)"
   ]
  },
  {
   "cell_type": "code",
   "execution_count": 15,
   "id": "76797b87",
   "metadata": {
    "execution": {
     "iopub.execute_input": "2022-11-27T17:23:16.914733Z",
     "iopub.status.busy": "2022-11-27T17:23:16.914344Z",
     "iopub.status.idle": "2022-11-27T17:23:17.258117Z",
     "shell.execute_reply": "2022-11-27T17:23:17.256963Z"
    },
    "papermill": {
     "duration": 0.354375,
     "end_time": "2022-11-27T17:23:17.260580",
     "exception": false,
     "start_time": "2022-11-27T17:23:16.906205",
     "status": "completed"
    },
    "tags": []
   },
   "outputs": [
    {
     "name": "stdout",
     "output_type": "stream",
     "text": [
      "Feature: HeartDisease , Score: 0.09640108628552518\n",
      "Feature: BMI , Score: 0.027038438612552448\n",
      "Feature: Smoking , Score: 0.006674827155092752\n",
      "Feature: AlcoholDrinking , Score: 0.10827293250994578\n",
      "Feature: Stroke , Score: 0.07976589477504009\n",
      "Feature: PhysicalHealth , Score: 0.03798129217698945\n",
      "Feature: MentalHealth , Score: 0.07635997315582681\n",
      "Feature: DiffWalking , Score: 0.05008966163949901\n",
      "Feature: Sex , Score: 0.19442794318032558\n",
      "Feature: AgeCategory , Score: 0.027450114401091345\n",
      "Feature: Race , Score: 0.07526656796615071\n",
      "Feature: Diabetic , Score: 0.014988330538562342\n",
      "Feature: PhysicalActivity , Score: 0.08418268455040212\n",
      "Feature: GenHealth , Score: 0.05156799316538093\n",
      "Feature: SleepTime , Score: 0.013789995412324807\n",
      "Feature: Asthma , Score: 0.03858396062365238\n",
      "Feature: KidneyDisease , Score: 0.017158303851638117\n"
     ]
    },
    {
     "data": {
      "image/png": "[encoded data removed]",
      "text/plain": [
       "<Figure size 1800x360 with 1 Axes>"
      ]
     },
     "metadata": {
      "needs_background": "light"
     },
     "output_type": "display_data"
    }
   ],
   "source": [
    "from matplotlib import pyplot as plt\n",
    "cols = df.columns\n",
    "importance = rf.feature_importances_\n",
    "for i,v in enumerate(importance):\n",
    "\tprint(f'Feature: {cols[i]} , Score: {v}')\n",
    "    \n",
    "plt.figure(figsize=(25, 5))\n",
    "plt.bar([cols[x] for x in range(len(importance))], importance)\n",
    "plt.show()"
   ]
  },
  {
   "cell_type": "code",
   "execution_count": null,
   "id": "41e33b34",
   "metadata": {
    "papermill": {
     "duration": 0.007032,
     "end_time": "2022-11-27T17:23:17.274995",
     "exception": false,
     "start_time": "2022-11-27T17:23:17.267963",
     "status": "completed"
    },
    "tags": []
   },
   "outputs": [],
   "source": []
  }
 ],
 "metadata": {
  "kernelspec": {
   "display_name": "Python 3",
   "language": "python",
   "name": "python3"
  },
  "language_info": {
   "codemirror_mode": {
    "name": "ipython",
    "version": 3
   },
   "file_extension": ".py",
   "mimetype": "text/x-python",
   "name": "python",
   "nbconvert_exporter": "python",
   "pygments_lexer": "ipython3",
   "version": "3.7.12"
  },
  "papermill": {
   "default_parameters": {},
   "duration": 296.985077,
   "end_time": "2022-11-27T17:23:18.105722",
   "environment_variables": {},
   "exception": null,
   "input_path": "__notebook__.ipynb",
   "output_path": "__notebook__.ipynb",
   "parameters": {},
   "start_time": "2022-11-27T17:18:21.120645",
   "version": "2.3.4"
  }
 },
 "nbformat": 4,
 "nbformat_minor": 5
}
